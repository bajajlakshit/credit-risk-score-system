{
 "cells": [
  {
   "cell_type": "code",
   "execution_count": 1,
   "id": "f86b8518-57fb-416f-96d5-51680dd69355",
   "metadata": {},
   "outputs": [],
   "source": [
    "import pandas as pd\n",
    "import numpy as np\n",
    "import seaborn as sns\n",
    "import matplotlib.pyplot as ply"
   ]
  },
  {
   "cell_type": "code",
   "execution_count": 2,
   "id": "dc01d858-3e17-432b-b966-cef217434ff5",
   "metadata": {},
   "outputs": [
    {
     "name": "stdout",
     "output_type": "stream",
     "text": [
      "Requirement already satisfied: pymysql in c:\\users\\bajaj\\anaconda3\\lib\\site-packages (1.1.1)\n",
      "Note: you may need to restart the kernel to use updated packages.\n"
     ]
    }
   ],
   "source": [
    "pip install pymysql"
   ]
  },
  {
   "cell_type": "code",
   "execution_count": 3,
   "id": "a52ac1e5-08ad-419b-b263-a0eb0d27fcd4",
   "metadata": {},
   "outputs": [
    {
     "name": "stdout",
     "output_type": "stream",
     "text": [
      "   customer_id  age    income employment_type region  num_loans  \\\n",
      "0         1001   59  155090.0        Salaried  North          0   \n",
      "1         1002   49   31302.0   Self-Employed  North          0   \n",
      "2         1003   35   87506.0        Salaried   West         20   \n",
      "3         1004   63   61157.0        Salaried   West          0   \n",
      "4         1005   28   74917.0        Salaried  North          0   \n",
      "\n",
      "   loan_amount_total  avg_interest_rate  avg_tenure_months  num_repayments  \\\n",
      "0                NaN                NaN                NaN               0   \n",
      "1                NaN                NaN                NaN               0   \n",
      "2          4095572.0              13.78               29.6              20   \n",
      "3                NaN                NaN                NaN               0   \n",
      "4                NaN                NaN                NaN               0   \n",
      "\n",
      "   total_paid_amount  late_payment_ratio  \n",
      "0                NaN                 NaN  \n",
      "1                NaN                 NaN  \n",
      "2           169793.4                 0.5  \n",
      "3                NaN                 NaN  \n",
      "4                NaN                 NaN  \n"
     ]
    },
    {
     "name": "stderr",
     "output_type": "stream",
     "text": [
      "C:\\Users\\bajaj\\AppData\\Local\\Temp\\ipykernel_16028\\833050264.py:13: UserWarning: pandas only supports SQLAlchemy connectable (engine/connection) or database string URI or sqlite3 DBAPI2 connection. Other DBAPI2 objects are not tested. Please consider using SQLAlchemy.\n",
      "  df = pd.read_sql(query, connection)\n"
     ]
    }
   ],
   "source": [
    "import pymysql\n",
    "\n",
    "connection = pymysql.connect(\n",
    "    host='localhost',        \n",
    "    user='root',\n",
    "    password='qwerty@1234',\n",
    "    database='credit_risk_project'\n",
    ")\n",
    "\n",
    "\n",
    "query = \"SELECT * FROM customer_features;\"\n",
    "\n",
    "df = pd.read_sql(query, connection)\n",
    "          \n",
    "connection.close()\n",
    "\n",
    "\n",
    "print(df.head())\n"
   ]
  },
  {
   "cell_type": "code",
   "execution_count": 4,
   "id": "6ed798bd-8d37-4093-acf8-66e15dbb83c2",
   "metadata": {},
   "outputs": [],
   "source": [
    "from sklearn.model_selection import train_test_split\n",
    "from sklearn.preprocessing import StandardScaler\n",
    "from sklearn.metrics import classification_report, confusion_matrix,accuracy_score\n",
    "from xgboost import XGBClassifier\n",
    "from imblearn.over_sampling import SMOTE"
   ]
  },
  {
   "cell_type": "code",
   "execution_count": 5,
   "id": "7fbe0e27-0468-43d5-aeb4-9b507ed15181",
   "metadata": {},
   "outputs": [],
   "source": [
    "df['risk_label'] = df['late_payment_ratio'].apply(lambda x: 1 if x > 0.4 else 0)"
   ]
  },
  {
   "cell_type": "code",
   "execution_count": 6,
   "id": "e292237f-520d-41a4-a504-cdc6a3a6aa22",
   "metadata": {},
   "outputs": [],
   "source": [
    "df_full = df.copy()\n",
    "df = df.dropna(subset=['risk_label']) \n",
    "df = df.drop(columns=['customer_id','late_payment_ratio']) "
   ]
  },
  {
   "cell_type": "code",
   "execution_count": 7,
   "id": "44764845-39e9-406d-8c25-ea5f31b27cf2",
   "metadata": {},
   "outputs": [],
   "source": [
    "X = df.drop(columns=['risk_label'])\n",
    "y = df['risk_label']"
   ]
  },
  {
   "cell_type": "code",
   "execution_count": 8,
   "id": "0b23cc1e-cc3b-49d9-b41a-ea1ce7ae8d6a",
   "metadata": {},
   "outputs": [],
   "source": [
    "X = X.fillna(X.median(numeric_only=True))\n",
    "X = X.fillna(\"Unknown\")\n",
    "X = pd.get_dummies(X, drop_first=True)"
   ]
  },
  {
   "cell_type": "code",
   "execution_count": 9,
   "id": "97d79a89-0bf0-47f9-9882-97d9e2bdb7c1",
   "metadata": {},
   "outputs": [],
   "source": [
    "sm = SMOTE(random_state=42)\n",
    "X_bal, y_bal = sm.fit_resample(X, y)"
   ]
  },
  {
   "cell_type": "code",
   "execution_count": 10,
   "id": "4b623856-6d5d-40fa-a1d7-1f65e9eaa837",
   "metadata": {},
   "outputs": [],
   "source": [
    "X_train, X_test, y_train, y_test = train_test_split(\n",
    "    X_bal, y_bal, test_size=0.3, random_state=42, stratify=y_bal\n",
    ")"
   ]
  },
  {
   "cell_type": "code",
   "execution_count": 11,
   "id": "0d0b19a7-42a4-4299-bac8-07ed128748c8",
   "metadata": {},
   "outputs": [],
   "source": [
    "scaler = StandardScaler()\n",
    "X_train_scaled = scaler.fit_transform(X_train)\n",
    "X_test_scaled = scaler.transform(X_test)"
   ]
  },
  {
   "cell_type": "code",
   "execution_count": 12,
   "id": "c5bf2841-bacd-4c56-b66e-8cf60273e4ba",
   "metadata": {},
   "outputs": [
    {
     "name": "stdout",
     "output_type": "stream",
     "text": [
      "Logistic Regression Report:\n",
      "               precision    recall  f1-score   support\n",
      "\n",
      "           0       0.94      0.68      0.79       166\n",
      "           1       0.75      0.96      0.84       165\n",
      "\n",
      "    accuracy                           0.82       331\n",
      "   macro avg       0.85      0.82      0.82       331\n",
      "weighted avg       0.85      0.82      0.82       331\n",
      "\n"
     ]
    }
   ],
   "source": [
    "from sklearn.linear_model import LogisticRegression\n",
    "\n",
    "lr = LogisticRegression(max_iter=1000)\n",
    "lr.fit(X_train_scaled, y_train)\n",
    "lr_preds = lr.predict(X_test_scaled)\n",
    "print(\"Logistic Regression Report:\\n\", classification_report(y_test, lr_preds))"
   ]
  },
  {
   "cell_type": "code",
   "execution_count": 13,
   "id": "1c28c0a2-14fa-408c-a585-46724365be15",
   "metadata": {},
   "outputs": [
    {
     "name": "stdout",
     "output_type": "stream",
     "text": [
      "Random Forest Report:\n",
      "               precision    recall  f1-score   support\n",
      "\n",
      "           0       0.98      0.69      0.81       166\n",
      "           1       0.76      0.99      0.86       165\n",
      "\n",
      "    accuracy                           0.84       331\n",
      "   macro avg       0.87      0.84      0.84       331\n",
      "weighted avg       0.87      0.84      0.84       331\n",
      "\n"
     ]
    }
   ],
   "source": [
    "from sklearn.ensemble import RandomForestClassifier\n",
    "\n",
    "rf = RandomForestClassifier(n_estimators=100, random_state=42)\n",
    "rf.fit(X_train_scaled, y_train)\n",
    "rf_preds = rf.predict(X_test_scaled)\n",
    "print(\"Random Forest Report:\\n\", classification_report(y_test, rf_preds))"
   ]
  },
  {
   "cell_type": "code",
   "execution_count": 14,
   "id": "9101605c-577f-4f01-923c-c141cfc850dd",
   "metadata": {},
   "outputs": [
    {
     "name": "stderr",
     "output_type": "stream",
     "text": [
      "C:\\Users\\bajaj\\anaconda3\\Lib\\site-packages\\xgboost\\training.py:183: UserWarning: [11:27:20] WARNING: C:\\actions-runner\\_work\\xgboost\\xgboost\\src\\learner.cc:738: \n",
      "Parameters: { \"use_label_encoder\" } are not used.\n",
      "\n",
      "  bst.update(dtrain, iteration=i, fobj=obj)\n"
     ]
    },
    {
     "name": "stdout",
     "output_type": "stream",
     "text": [
      "[[118  48]\n",
      " [ 15 150]]\n",
      "              precision    recall  f1-score   support\n",
      "\n",
      "           0       0.89      0.71      0.79       166\n",
      "           1       0.76      0.91      0.83       165\n",
      "\n",
      "    accuracy                           0.81       331\n",
      "   macro avg       0.82      0.81      0.81       331\n",
      "weighted avg       0.82      0.81      0.81       331\n",
      "\n"
     ]
    }
   ],
   "source": [
    "model = XGBClassifier(\n",
    "    n_estimators=1000,\n",
    "    max_depth=8,\n",
    "    learning_rate=0.03,\n",
    "    subsample=0.85,\n",
    "    colsample_bytree=0.85,\n",
    "    random_state=42,\n",
    "    use_label_encoder=False,\n",
    "    eval_metric='logloss'\n",
    ")\n",
    "model.fit(X_train_scaled, y_train)\n",
    "\n",
    "y_pred = model.predict(X_test_scaled)\n",
    "print(confusion_matrix(y_test, y_pred))\n",
    "print(classification_report(y_test, y_pred))"
   ]
  },
  {
   "cell_type": "code",
   "execution_count": 15,
   "id": "6a7ed7c8-e1ec-49c3-867b-bb9156da2c18",
   "metadata": {},
   "outputs": [
    {
     "name": "stderr",
     "output_type": "stream",
     "text": [
      "C:\\Users\\bajaj\\anaconda3\\Lib\\site-packages\\xgboost\\training.py:183: UserWarning: [11:27:21] WARNING: C:\\actions-runner\\_work\\xgboost\\xgboost\\src\\learner.cc:738: \n",
      "Parameters: { \"use_label_encoder\" } are not used.\n",
      "\n",
      "  bst.update(dtrain, iteration=i, fobj=obj)\n",
      "C:\\Users\\bajaj\\anaconda3\\Lib\\site-packages\\xgboost\\training.py:183: UserWarning: [11:27:21] WARNING: C:\\actions-runner\\_work\\xgboost\\xgboost\\src\\learner.cc:738: \n",
      "Parameters: { \"use_label_encoder\" } are not used.\n",
      "\n",
      "  bst.update(dtrain, iteration=i, fobj=obj)\n",
      "C:\\Users\\bajaj\\anaconda3\\Lib\\site-packages\\xgboost\\training.py:183: UserWarning: [11:27:22] WARNING: C:\\actions-runner\\_work\\xgboost\\xgboost\\src\\learner.cc:738: \n",
      "Parameters: { \"use_label_encoder\" } are not used.\n",
      "\n",
      "  bst.update(dtrain, iteration=i, fobj=obj)\n",
      "C:\\Users\\bajaj\\anaconda3\\Lib\\site-packages\\xgboost\\training.py:183: UserWarning: [11:27:23] WARNING: C:\\actions-runner\\_work\\xgboost\\xgboost\\src\\learner.cc:738: \n",
      "Parameters: { \"use_label_encoder\" } are not used.\n",
      "\n",
      "  bst.update(dtrain, iteration=i, fobj=obj)\n",
      "C:\\Users\\bajaj\\anaconda3\\Lib\\site-packages\\xgboost\\training.py:183: UserWarning: [11:27:24] WARNING: C:\\actions-runner\\_work\\xgboost\\xgboost\\src\\learner.cc:738: \n",
      "Parameters: { \"use_label_encoder\" } are not used.\n",
      "\n",
      "  bst.update(dtrain, iteration=i, fobj=obj)\n"
     ]
    },
    {
     "name": "stdout",
     "output_type": "stream",
     "text": [
      "     customer_id  credit_risk_score  risk_label prediction_date\n",
      "0           1001               0.04           0      2025-07-22\n",
      "1           1002               0.01           0      2025-07-22\n",
      "2           1003               0.77           1      2025-07-22\n",
      "3           1004               0.02           0      2025-07-22\n",
      "4           1005               0.06           0      2025-07-22\n",
      "..           ...                ...         ...             ...\n",
      "995         1996               0.02           0      2025-07-22\n",
      "996         1997               0.82           1      2025-07-22\n",
      "997         1998               0.03           0      2025-07-22\n",
      "998         1999               0.81           1      2025-07-22\n",
      "999         2000               0.74           1      2025-07-22\n",
      "\n",
      "[1000 rows x 4 columns]\n"
     ]
    }
   ],
   "source": [
    "X_all = df_full.drop(columns=['customer_id', 'risk_label'])\n",
    "X_all_encoded = pd.get_dummies(X_all, drop_first=True)\n",
    "X_all_encoded = X_all_encoded.reindex(columns=X.columns, fill_value=0)\n",
    "X_all_scaled = scaler.transform(X_all_encoded)\n",
    "\n",
    "from sklearn.calibration import CalibratedClassifierCV\n",
    "calibrated_model = CalibratedClassifierCV(estimator=model, method='isotonic', cv=5)\n",
    "calibrated_model.fit(X_train_scaled, y_train)\n",
    "\n",
    "risk_probs = calibrated_model.predict_proba(X_all_scaled)[:, 1]\n",
    "\n",
    "\n",
    "risk_probs = calibrated_model.predict_proba(X_all_scaled)[:, 1]\n",
    "risk_labels = calibrated_model.predict(X_all_scaled)\n",
    "\n",
    "results = pd.DataFrame()\n",
    "results['customer_id'] = df_full['customer_id']  \n",
    "results['credit_risk_score'] = risk_probs.round(2)\n",
    "results['risk_label'] = risk_labels\n",
    "results['prediction_date'] = pd.Timestamp.today().date()\n",
    "\n",
    "print(results)\n"
   ]
  },
  {
   "cell_type": "code",
   "execution_count": 16,
   "id": "6c27d484-186e-475c-b59d-8e5594446553",
   "metadata": {},
   "outputs": [
    {
     "name": "stdout",
     "output_type": "stream",
     "text": [
      "✅ Predictions uploaded successfully!\n"
     ]
    }
   ],
   "source": [
    "import pymysql\n",
    "from sqlalchemy import create_engine\n",
    "from sqlalchemy.engine import URL\n",
    "from sqlalchemy import create_engine\n",
    "\n",
    "url = URL.create(\n",
    "    drivername=\"mysql+pymysql\",\n",
    "    username=\"root\",           \n",
    "    password=\"qwerty@1234\",   \n",
    "    host=\"localhost\",\n",
    "    port=3306,                          \n",
    "    database=\"credit_risk_project\"\n",
    ")\n",
    "\n",
    "engine = create_engine(url)\n",
    "\n",
    "results.to_sql(\"credit_scores\", con=engine, if_exists=\"replace\", index=False)\n",
    "\n",
    "print(\"✅ Predictions uploaded successfully!\")"
   ]
  },
  {
   "cell_type": "code",
   "execution_count": 17,
   "id": "1ba8aa0d-db8c-472a-bc06-ba56129c153d",
   "metadata": {},
   "outputs": [
    {
     "data": {
      "text/plain": [
       "0.02    112\n",
       "0.01     78\n",
       "0.03     63\n",
       "0.78     62\n",
       "0.77     57\n",
       "0.82     44\n",
       "0.81     38\n",
       "0.83     34\n",
       "0.76     30\n",
       "0.75     28\n",
       "Name: count, dtype: int64"
      ]
     },
     "execution_count": 17,
     "metadata": {},
     "output_type": "execute_result"
    }
   ],
   "source": [
    "pd.Series(risk_probs.round(2)).value_counts().head(10)\n"
   ]
  },
  {
   "cell_type": "code",
   "execution_count": 18,
   "id": "8e04fe51-c625-4809-ae07-a7c07300615d",
   "metadata": {},
   "outputs": [
    {
     "data": {
      "image/png": "[encoded data removed]",
      "text/plain": [
       "<Figure size 800x500 with 1 Axes>"
      ]
     },
     "metadata": {},
     "output_type": "display_data"
    }
   ],
   "source": [
    "import matplotlib.pyplot as plt\n",
    "\n",
    "plt.figure(figsize=(8, 5))\n",
    "pd.Series(risk_probs).plot(kind='hist', bins=20, edgecolor='black')\n",
    "plt.title(\"Distribution of Credit Risk Scores\")\n",
    "plt.xlabel(\"Predicted Risk Score\")\n",
    "plt.ylabel(\"Number of Customers\")\n",
    "plt.grid(True)\n",
    "plt.show()\n"
   ]
  },
  {
   "cell_type": "code",
   "execution_count": null,
   "id": "2cd2a542-bf7b-41ab-be1f-411aa91d9b4f",
   "metadata": {},
   "outputs": [],
   "source": []
  }
 ],
 "metadata": {
  "kernelspec": {
   "display_name": "Python 3 (ipykernel)",
   "language": "python",
   "name": "python3"
  },
  "language_info": {
   "codemirror_mode": {
    "name": "ipython",
    "version": 3
   },
   "file_extension": ".py",
   "mimetype": "text/x-python",
   "name": "python",
   "nbconvert_exporter": "python",
   "pygments_lexer": "ipython3",
   "version": "3.12.7"
  }
 },
 "nbformat": 4,
 "nbformat_minor": 5
}
